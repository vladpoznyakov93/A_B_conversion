{
 "cells": [
  {
   "cell_type": "markdown",
   "metadata": {},
   "source": [
    "# Вариант 2. \n",
    "## Задание 1\n",
    "В ходе тестирования одной гипотезы целевой группе была предложена новая механика оплаты услуг на сайте, у контрольной группы оставалась базовая механика. \n",
    "### Какие данные у нас есть?\n",
    "* ID \n",
    "* Принадлежность тестовой/контрольной группе\n",
    "* Информация об оплатах пользователей в дни проведения эксперимента\n",
    "* Информацией о пользователях, которые зашли на платформу в дни проведения эксперимента\n",
    "\n",
    "### Что мы можем узнать?\n",
    "* Conversion rate в платежи в группе А и Б. Нужно понять повлияла ли новая механика оплаты на конверсию в платежи.\n",
    "* Сравнить платежи в группе А и Б"
   ]
  },
  {
   "cell_type": "markdown",
   "metadata": {},
   "source": [
    "## Подготовка датафреймов, первый анализ\n",
    "\n",
    "1. Импортируем библиотеки\n",
    "2. pd.read_csv\n",
    "3. пишем функцию чтобы по ней чекать все датафреймы\n",
    "4. джойним дату\n",
    "5. Exploratory data analysis "
   ]
  },
  {
   "cell_type": "code",
   "execution_count": 1,
   "metadata": {},
   "outputs": [
    {
     "name": "stdout",
     "output_type": "stream",
     "text": [
      "Populating the interactive namespace from numpy and matplotlib\n"
     ]
    }
   ],
   "source": [
    "import pandas as pd\n",
    "import matplotlib.pyplot as plt\n",
    "%pylab inline\n",
    "import seaborn as sns\n",
    "from statsmodels.stats.contingency_tables import StratifiedTable\n",
    "from scipy import stats\n",
    "import numpy as np\n",
    "from scipy.stats import chi2_contingency\n",
    "from scipy.stats import ttest_ind\n",
    "\n",
    "from tqdm.auto import tqdm\n",
    "from scipy.stats import norm\n",
    "\n",
    "plt.style.use('ggplot')\n",
    "\n",
    "import pandahouse as ph\n"
   ]
  },
  {
   "cell_type": "code",
   "execution_count": 57,
   "metadata": {},
   "outputs": [],
   "source": [
    "def df_stat_desc(x):\n",
    "    columns = x.shape[1]\n",
    "    rows = x.shape[0]\n",
    "    col_name = x.columns\n",
    "    isna = x.isna().sum()\n",
    "    print(f'Датафрейм содержит {columns} колонок и {rows} строк', end = '\\n')\n",
    "    print(f'Названия колонок : {col_name}', sep = '\\n')\n",
    "    print(f'Пропущеные значения в колонках : {isna}', sep = '\\n')\n",
    "    return x.head()\n",
    "#функция для описания датафреймов"
   ]
  },
  {
   "cell_type": "code",
   "execution_count": 8,
   "metadata": {},
   "outputs": [],
   "source": [
    "groups = pd.read_csv('Проект_2_groups.csv', sep = ';' )\n",
    "checks = pd.read_csv('Проект_2_checks.csv', sep = ';' ,header = 0, names=['id', 'rev'])\n",
    "active_studs = pd.read_csv('Проект_2_active_studs.csv', sep = ';' ,header = 0, names=['id'])\n",
    "# сразу для удобства меняем название колонок"
   ]
  },
  {
   "cell_type": "code",
   "execution_count": null,
   "metadata": {},
   "outputs": [],
   "source": []
  },
  {
   "cell_type": "code",
   "execution_count": 59,
   "metadata": {},
   "outputs": [
    {
     "name": "stdout",
     "output_type": "stream",
     "text": [
      "Датафрейм содержит 2 колонок и 74484 строк\n",
      "Названия колонок : Index(['id', 'grp'], dtype='object')\n",
      "Пропущеные значения в колонках : id     0\n",
      "grp    0\n",
      "dtype: int64\n"
     ]
    },
    {
     "data": {
      "text/html": [
       "<div>\n",
       "<style scoped>\n",
       "    .dataframe tbody tr th:only-of-type {\n",
       "        vertical-align: middle;\n",
       "    }\n",
       "\n",
       "    .dataframe tbody tr th {\n",
       "        vertical-align: top;\n",
       "    }\n",
       "\n",
       "    .dataframe thead th {\n",
       "        text-align: right;\n",
       "    }\n",
       "</style>\n",
       "<table border=\"1\" class=\"dataframe\">\n",
       "  <thead>\n",
       "    <tr style=\"text-align: right;\">\n",
       "      <th></th>\n",
       "      <th>id</th>\n",
       "      <th>grp</th>\n",
       "    </tr>\n",
       "  </thead>\n",
       "  <tbody>\n",
       "    <tr>\n",
       "      <th>0</th>\n",
       "      <td>1489</td>\n",
       "      <td>B</td>\n",
       "    </tr>\n",
       "    <tr>\n",
       "      <th>1</th>\n",
       "      <td>1627</td>\n",
       "      <td>A</td>\n",
       "    </tr>\n",
       "    <tr>\n",
       "      <th>2</th>\n",
       "      <td>1768</td>\n",
       "      <td>B</td>\n",
       "    </tr>\n",
       "    <tr>\n",
       "      <th>3</th>\n",
       "      <td>1783</td>\n",
       "      <td>B</td>\n",
       "    </tr>\n",
       "    <tr>\n",
       "      <th>4</th>\n",
       "      <td>1794</td>\n",
       "      <td>A</td>\n",
       "    </tr>\n",
       "  </tbody>\n",
       "</table>\n",
       "</div>"
      ],
      "text/plain": [
       "     id grp\n",
       "0  1489   B\n",
       "1  1627   A\n",
       "2  1768   B\n",
       "3  1783   B\n",
       "4  1794   A"
      ]
     },
     "execution_count": 59,
     "metadata": {},
     "output_type": "execute_result"
    }
   ],
   "source": [
    "df_stat_desc(groups)\n"
   ]
  },
  {
   "cell_type": "code",
   "execution_count": 60,
   "metadata": {},
   "outputs": [
    {
     "name": "stdout",
     "output_type": "stream",
     "text": [
      "Датафрейм содержит 2 колонок и 541 строк\n",
      "Названия колонок : Index(['id', 'rev'], dtype='object')\n",
      "Пропущеные значения в колонках : id     0\n",
      "rev    0\n",
      "dtype: int64\n"
     ]
    },
    {
     "data": {
      "text/html": [
       "<div>\n",
       "<style scoped>\n",
       "    .dataframe tbody tr th:only-of-type {\n",
       "        vertical-align: middle;\n",
       "    }\n",
       "\n",
       "    .dataframe tbody tr th {\n",
       "        vertical-align: top;\n",
       "    }\n",
       "\n",
       "    .dataframe thead th {\n",
       "        text-align: right;\n",
       "    }\n",
       "</style>\n",
       "<table border=\"1\" class=\"dataframe\">\n",
       "  <thead>\n",
       "    <tr style=\"text-align: right;\">\n",
       "      <th></th>\n",
       "      <th>id</th>\n",
       "      <th>rev</th>\n",
       "    </tr>\n",
       "  </thead>\n",
       "  <tbody>\n",
       "    <tr>\n",
       "      <th>0</th>\n",
       "      <td>1627</td>\n",
       "      <td>990.0</td>\n",
       "    </tr>\n",
       "    <tr>\n",
       "      <th>1</th>\n",
       "      <td>3185</td>\n",
       "      <td>690.0</td>\n",
       "    </tr>\n",
       "    <tr>\n",
       "      <th>2</th>\n",
       "      <td>25973</td>\n",
       "      <td>690.0</td>\n",
       "    </tr>\n",
       "    <tr>\n",
       "      <th>3</th>\n",
       "      <td>26280</td>\n",
       "      <td>690.0</td>\n",
       "    </tr>\n",
       "    <tr>\n",
       "      <th>4</th>\n",
       "      <td>100300</td>\n",
       "      <td>990.0</td>\n",
       "    </tr>\n",
       "  </tbody>\n",
       "</table>\n",
       "</div>"
      ],
      "text/plain": [
       "       id    rev\n",
       "0    1627  990.0\n",
       "1    3185  690.0\n",
       "2   25973  690.0\n",
       "3   26280  690.0\n",
       "4  100300  990.0"
      ]
     },
     "execution_count": 60,
     "metadata": {},
     "output_type": "execute_result"
    }
   ],
   "source": [
    "df_stat_desc(checks) \n"
   ]
  },
  {
   "cell_type": "code",
   "execution_count": 61,
   "metadata": {},
   "outputs": [
    {
     "name": "stdout",
     "output_type": "stream",
     "text": [
      "Датафрейм содержит 1 колонок и 8341 строк\n",
      "Названия колонок : Index(['id'], dtype='object')\n",
      "Пропущеные значения в колонках : id    0\n",
      "dtype: int64\n"
     ]
    },
    {
     "data": {
      "text/html": [
       "<div>\n",
       "<style scoped>\n",
       "    .dataframe tbody tr th:only-of-type {\n",
       "        vertical-align: middle;\n",
       "    }\n",
       "\n",
       "    .dataframe tbody tr th {\n",
       "        vertical-align: top;\n",
       "    }\n",
       "\n",
       "    .dataframe thead th {\n",
       "        text-align: right;\n",
       "    }\n",
       "</style>\n",
       "<table border=\"1\" class=\"dataframe\">\n",
       "  <thead>\n",
       "    <tr style=\"text-align: right;\">\n",
       "      <th></th>\n",
       "      <th>id</th>\n",
       "    </tr>\n",
       "  </thead>\n",
       "  <tbody>\n",
       "    <tr>\n",
       "      <th>0</th>\n",
       "      <td>581585</td>\n",
       "    </tr>\n",
       "    <tr>\n",
       "      <th>1</th>\n",
       "      <td>5723133</td>\n",
       "    </tr>\n",
       "    <tr>\n",
       "      <th>2</th>\n",
       "      <td>3276743</td>\n",
       "    </tr>\n",
       "    <tr>\n",
       "      <th>3</th>\n",
       "      <td>4238589</td>\n",
       "    </tr>\n",
       "    <tr>\n",
       "      <th>4</th>\n",
       "      <td>4475369</td>\n",
       "    </tr>\n",
       "  </tbody>\n",
       "</table>\n",
       "</div>"
      ],
      "text/plain": [
       "        id\n",
       "0   581585\n",
       "1  5723133\n",
       "2  3276743\n",
       "3  4238589\n",
       "4  4475369"
      ]
     },
     "execution_count": 61,
     "metadata": {},
     "output_type": "execute_result"
    }
   ],
   "source": [
    "df_stat_desc(active_studs)\n"
   ]
  },
  {
   "cell_type": "code",
   "execution_count": 62,
   "metadata": {},
   "outputs": [
    {
     "name": "stdout",
     "output_type": "stream",
     "text": [
      "Датафрейм содержит 2 колонок и 8328 строк\n",
      "Названия колонок : Index(['id', 'grp'], dtype='object')\n",
      "Пропущеные значения в колонках : id     0\n",
      "grp    0\n",
      "dtype: int64\n"
     ]
    },
    {
     "data": {
      "text/html": [
       "<div>\n",
       "<style scoped>\n",
       "    .dataframe tbody tr th:only-of-type {\n",
       "        vertical-align: middle;\n",
       "    }\n",
       "\n",
       "    .dataframe tbody tr th {\n",
       "        vertical-align: top;\n",
       "    }\n",
       "\n",
       "    .dataframe thead th {\n",
       "        text-align: right;\n",
       "    }\n",
       "</style>\n",
       "<table border=\"1\" class=\"dataframe\">\n",
       "  <thead>\n",
       "    <tr style=\"text-align: right;\">\n",
       "      <th></th>\n",
       "      <th>id</th>\n",
       "      <th>grp</th>\n",
       "    </tr>\n",
       "  </thead>\n",
       "  <tbody>\n",
       "    <tr>\n",
       "      <th>0</th>\n",
       "      <td>581585</td>\n",
       "      <td>A</td>\n",
       "    </tr>\n",
       "    <tr>\n",
       "      <th>1</th>\n",
       "      <td>3276743</td>\n",
       "      <td>B</td>\n",
       "    </tr>\n",
       "    <tr>\n",
       "      <th>2</th>\n",
       "      <td>4238589</td>\n",
       "      <td>A</td>\n",
       "    </tr>\n",
       "    <tr>\n",
       "      <th>3</th>\n",
       "      <td>4475369</td>\n",
       "      <td>B</td>\n",
       "    </tr>\n",
       "    <tr>\n",
       "      <th>4</th>\n",
       "      <td>5481015</td>\n",
       "      <td>B</td>\n",
       "    </tr>\n",
       "  </tbody>\n",
       "</table>\n",
       "</div>"
      ],
      "text/plain": [
       "        id grp\n",
       "0   581585   A\n",
       "1  3276743   B\n",
       "2  4238589   A\n",
       "3  4475369   B\n",
       "4  5481015   B"
      ]
     },
     "execution_count": 62,
     "metadata": {},
     "output_type": "execute_result"
    }
   ],
   "source": [
    "active_ab = active_studs.merge(groups, on = 'id') # df для тех, кто попал в тест\n",
    "df_stat_desc(active_ab)\n"
   ]
  },
  {
   "cell_type": "code",
   "execution_count": 63,
   "metadata": {},
   "outputs": [
    {
     "name": "stdout",
     "output_type": "stream",
     "text": [
      "grp     NaN\n",
      "id     13.0\n",
      "dtype: float64\n"
     ]
    }
   ],
   "source": [
    "print(active_studs.nunique() - active_ab.nunique())\n"
   ]
  },
  {
   "cell_type": "markdown",
   "metadata": {},
   "source": [
    "#### Есть 13 человек, которые были на сайте во время теста, но им не была присовена группа А или Б. Их мы не можем учитывать в нашем эксперименте, поэтому отсекаем"
   ]
  },
  {
   "cell_type": "markdown",
   "metadata": {},
   "source": [
    "### Странно что в тестовой группе намного больше людей, чем в контрольной. Но это не должно нам помешать в стат исследовании\n"
   ]
  },
  {
   "cell_type": "code",
   "execution_count": 64,
   "metadata": {},
   "outputs": [
    {
     "name": "stdout",
     "output_type": "stream",
     "text": [
      "Датафрейм содержит 3 колонок и 8328 строк\n",
      "Названия колонок : Index(['id', 'grp', 'rev'], dtype='object')\n",
      "Пропущеные значения в колонках : id        0\n",
      "grp       0\n",
      "rev    7937\n",
      "dtype: int64\n"
     ]
    },
    {
     "data": {
      "text/html": [
       "<div>\n",
       "<style scoped>\n",
       "    .dataframe tbody tr th:only-of-type {\n",
       "        vertical-align: middle;\n",
       "    }\n",
       "\n",
       "    .dataframe tbody tr th {\n",
       "        vertical-align: top;\n",
       "    }\n",
       "\n",
       "    .dataframe thead th {\n",
       "        text-align: right;\n",
       "    }\n",
       "</style>\n",
       "<table border=\"1\" class=\"dataframe\">\n",
       "  <thead>\n",
       "    <tr style=\"text-align: right;\">\n",
       "      <th></th>\n",
       "      <th>id</th>\n",
       "      <th>grp</th>\n",
       "      <th>rev</th>\n",
       "    </tr>\n",
       "  </thead>\n",
       "  <tbody>\n",
       "    <tr>\n",
       "      <th>0</th>\n",
       "      <td>581585</td>\n",
       "      <td>A</td>\n",
       "      <td>NaN</td>\n",
       "    </tr>\n",
       "    <tr>\n",
       "      <th>1</th>\n",
       "      <td>3276743</td>\n",
       "      <td>B</td>\n",
       "      <td>NaN</td>\n",
       "    </tr>\n",
       "    <tr>\n",
       "      <th>2</th>\n",
       "      <td>4238589</td>\n",
       "      <td>A</td>\n",
       "      <td>NaN</td>\n",
       "    </tr>\n",
       "    <tr>\n",
       "      <th>3</th>\n",
       "      <td>4475369</td>\n",
       "      <td>B</td>\n",
       "      <td>NaN</td>\n",
       "    </tr>\n",
       "    <tr>\n",
       "      <th>4</th>\n",
       "      <td>5481015</td>\n",
       "      <td>B</td>\n",
       "      <td>NaN</td>\n",
       "    </tr>\n",
       "  </tbody>\n",
       "</table>\n",
       "</div>"
      ],
      "text/plain": [
       "        id grp  rev\n",
       "0   581585   A  NaN\n",
       "1  3276743   B  NaN\n",
       "2  4238589   A  NaN\n",
       "3  4475369   B  NaN\n",
       "4  5481015   B  NaN"
      ]
     },
     "execution_count": 64,
     "metadata": {},
     "output_type": "execute_result"
    }
   ],
   "source": [
    "act_plus_checks = active_ab.merge(checks, on = 'id', how = 'left') #добавляем платежи \n",
    "df_stat_desc(act_plus_checks)"
   ]
  },
  {
   "cell_type": "code",
   "execution_count": 65,
   "metadata": {},
   "outputs": [
    {
     "data": {
      "text/plain": [
       "count     391.000000\n",
       "mean     1191.544766\n",
       "std       827.421317\n",
       "min       199.000000\n",
       "25%       290.000000\n",
       "50%       990.000000\n",
       "75%      1900.000000\n",
       "max      4650.000000\n",
       "Name: rev, dtype: float64"
      ]
     },
     "execution_count": 65,
     "metadata": {},
     "output_type": "execute_result"
    }
   ],
   "source": [
    "act_plus_checks.rev.describe()"
   ]
  },
  {
   "cell_type": "code",
   "execution_count": 66,
   "metadata": {},
   "outputs": [
    {
     "data": {
      "text/plain": [
       "count     541.000000\n",
       "mean     1059.752317\n",
       "std       762.712359\n",
       "min       199.000000\n",
       "25%       290.000000\n",
       "50%       840.000000\n",
       "75%      1900.000000\n",
       "max      4650.000000\n",
       "Name: rev, dtype: float64"
      ]
     },
     "execution_count": 66,
     "metadata": {},
     "output_type": "execute_result"
    }
   ],
   "source": [
    "checks.rev.describe()"
   ]
  },
  {
   "cell_type": "code",
   "execution_count": 67,
   "metadata": {},
   "outputs": [
    {
     "data": {
      "text/plain": [
       "<matplotlib.axes._subplots.AxesSubplot at 0x7fa8d76d92e8>"
      ]
     },
     "execution_count": 67,
     "metadata": {},
     "output_type": "execute_result"
    },
    {
     "data": {
      "image/png": "[encoded data removed]",
      "text/plain": [
       "<Figure size 432x288 with 1 Axes>"
      ]
     },
     "metadata": {},
     "output_type": "display_data"
    }
   ],
   "source": [
    "sns.countplot(x = 'grp', data = act_plus_checks)\n"
   ]
  },
  {
   "cell_type": "markdown",
   "metadata": {},
   "source": [
    "### В checks 541 оплата, в df c id принявшими участие в эксперименте всего 391 оплата. Но  нас интересуют только те id, которые попали в эксперимент"
   ]
  },
  {
   "cell_type": "code",
   "execution_count": 68,
   "metadata": {},
   "outputs": [
    {
     "data": {
      "image/png": "[encoded data removed]",
      "text/plain": [
       "<Figure size 432x288 with 1 Axes>"
      ]
     },
     "metadata": {},
     "output_type": "display_data"
    }
   ],
   "source": [
    "act_plus_checks = act_plus_checks.fillna(0) # replace NaN with 0 \n",
    "\n",
    "fix, ax = plt.subplots()\n",
    "ax.hist(act_plus_checks['rev'], bins = [0,100, 500, 1000, 3000, 4000]) #step - thin lines\n",
    "ax.set_ylabel('Кол-во платежей')\n",
    "ax.set_xlabel('Сумма платежа')\n",
    "ax.set_title('Общая гистограмма платежей')\n",
    "plt.show()"
   ]
  },
  {
   "cell_type": "code",
   "execution_count": 69,
   "metadata": {},
   "outputs": [
    {
     "data": {
      "image/png": "[encoded data removed]",
      "text/plain": [
       "<Figure size 432x288 with 1 Axes>"
      ]
     },
     "metadata": {},
     "output_type": "display_data"
    }
   ],
   "source": [
    "act_plus_checks_paid = act_plus_checks.query('rev > 0')#оставляем только платящих пользователей\n",
    "\n",
    "fix, ax = plt.subplots() #смортим распределение платежей \n",
    "ax.hist(act_plus_checks_paid.query('grp == \"A\"')['rev'], label = 'Контрольная группа', alpha = 0.5) #step - thin lines\n",
    "ax.hist(act_plus_checks_paid.query('grp == \"B\"')['rev'], label = 'Тестовая группа', alpha = 0.5)\n",
    "ax.set_title('Распределения платежей в двух группах')\n",
    "ax.set_ylabel('Кол-во платежей')\n",
    "ax.set_xlabel('Сумма платежа')\n",
    "ax.legend()\n",
    "plt.show()"
   ]
  },
  {
   "cell_type": "code",
   "execution_count": 70,
   "metadata": {},
   "outputs": [
    {
     "data": {
      "text/plain": [
       "290.0     25\n",
       "580.0      6\n",
       "990.0      5\n",
       "590.0      5\n",
       "199.0      5\n",
       "690.0      4\n",
       "1530.0     3\n",
       "3660.0     3\n",
       "840.0      3\n",
       "1140.0     2\n",
       "489.0      2\n",
       "1160.0     2\n",
       "2820.0     2\n",
       "2910.0     2\n",
       "2890.0     1\n",
       "1180.0     1\n",
       "2900.0     1\n",
       "1830.0     1\n",
       "2220.0     1\n",
       "870.0      1\n",
       "398.0      1\n",
       "1980.0     1\n",
       "1039.0     1\n",
       "Name: rev, dtype: int64"
      ]
     },
     "execution_count": 70,
     "metadata": {},
     "output_type": "execute_result"
    }
   ],
   "source": [
    "act_plus_checks_paid.query('grp == \"A\"').rev.value_counts()"
   ]
  },
  {
   "cell_type": "code",
   "execution_count": 71,
   "metadata": {},
   "outputs": [
    {
     "data": {
      "text/plain": [
       "1900.0000    92\n",
       "290.0000     45\n",
       "1900.0001    35\n",
       "199.0000     27\n",
       "840.0000     21\n",
       "990.0000     17\n",
       "690.0000     13\n",
       "1140.0000     9\n",
       "590.0000      6\n",
       "398.0000      6\n",
       "870.0000      5\n",
       "580.0000      5\n",
       "1530.0000     5\n",
       "2890.0000     3\n",
       "2099.0000     3\n",
       "1980.0000     2\n",
       "3660.0000     2\n",
       "2910.0000     2\n",
       "796.0000      1\n",
       "1388.0000     1\n",
       "489.0000      1\n",
       "1160.0000     1\n",
       "2190.0000     1\n",
       "3040.0000     1\n",
       "1968.0000     1\n",
       "880.0000      1\n",
       "1729.0000     1\n",
       "2220.0000     1\n",
       "1339.0000     1\n",
       "4650.0000     1\n",
       "1050.0000     1\n",
       "597.0000      1\n",
       "3260.0000     1\n",
       "Name: rev, dtype: int64"
      ]
     },
     "execution_count": 71,
     "metadata": {},
     "output_type": "execute_result"
    }
   ],
   "source": [
    "act_plus_checks_paid.query('grp == \"B\"').rev.value_counts()"
   ]
  },
  {
   "cell_type": "code",
   "execution_count": 72,
   "metadata": {},
   "outputs": [
    {
     "name": "stdout",
     "output_type": "stream",
     "text": [
      "241300.00350000002\n",
      "393074.0035\n",
      "0.6138793238713891\n"
     ]
    }
   ],
   "source": [
    "print(act_plus_checks_paid.query(\"rev == '1900.0000' or rev == '1900.0001'\").rev.sum())\n",
    "print(act_plus_checks_paid.query('grp == \"B\"').rev.sum())\n",
    "print(act_plus_checks_paid.query(\"rev == '1900.0000' or rev == '1900.0001'\").rev.sum()/\n",
    "      act_plus_checks_paid.query('grp == \"B\"').rev.sum())"
   ]
  },
  {
   "cell_type": "code",
   "execution_count": 73,
   "metadata": {},
   "outputs": [
    {
     "data": {
      "text/plain": [
       "127"
      ]
     },
     "execution_count": 73,
     "metadata": {},
     "output_type": "execute_result"
    }
   ],
   "source": [
    "act_plus_checks_paid.query(\"rev == '1900.0000' or rev == '1900.0001'\").rev.count()"
   ]
  },
  {
   "cell_type": "markdown",
   "metadata": {},
   "source": [
    "## Выводы:\n",
    "* В тесте участвовало намного больше человек из тестовой группы чем из контрольной\n",
    "* Большая часть платежей равна 0\n",
    "* Платежей было на 150шт больше, чем в файле с информацией о пользователях, которые зашли на платформу в дни проведения эксперимента. Следовательно не все оплаты попадают в наш анализ\n",
    "* Распределение платежей в группе А и Б - ненормально\n",
    "* Существует большое кол-во одинаковых значений в колонке rev(интересен 1900 и 1900.0001 в 'B'). \n",
    "* Непонятна природа этих платежей. Мы делали новую платежную систему и ожидаем более-менее равномерного конверсии, а у нас появилось большое кол-во платежей на одну сумму. Выглядит как промоакция, которая появилась на сайте только у группы Б. Также смущает 1 десятитысячная в оплате, больше нигде такого нету, суммы кругые.\n",
    "* Должны различаться только системы оплаты, но ,скорее всего, это не так. У нас не хватает информации чтобы установить природу этих платежей. \n",
    "* Странно отрезать значения, которые составляют больше половины от всех платежей. И на выходе будут сложноинтерпретируемые выводы. \n",
    "* Тем не менее мы можем постараться эмперически решить этот вопрос. Мы посчитаем arpu, arpau, медиану для всех данных и для данных, которые мы скорректируем. Дальше мы посчитаем стат значимость различий в группах и на осоновании результатов будем решать какой вывод делать"
   ]
  },
  {
   "cell_type": "markdown",
   "metadata": {},
   "source": [
    "## Начнем со сравнения платежей в группах\n",
    "* ARPU\n",
    "* ARPAU\n",
    "* Медиана платежей в группах\n",
    "* Статзначимость различий\n",
    "\n",
    "\n",
    "### Новая механика оплаты может оказать прямое влияние на конверию(например упрощена оплата и не нужно вводить данные карты, т.е. путь от корзины до оплаты сокращается). Также можем предположить что новая механика оплаты может как-то сказаться на среднем чеке(например доп товары по скидке не только в корзине, но и в окне оплаты)\n",
    "### Так как точной информации по новой системе платежей у нас нету, то нужно проверить все гипотезы\n",
    "* Считаем ARPU, ARPAU и медиану платежей для всех данных и для данных где мы уберем 'подозрительные' платежи \n"
   ]
  },
  {
   "cell_type": "code",
   "execution_count": 74,
   "metadata": {},
   "outputs": [
    {
     "name": "stdout",
     "output_type": "stream",
     "text": [
      "Для необработаных данных ARPU  группы А = 47.44 ,ARPU группы B = 57.86 \n",
      "Для необработаных данных ARPPU группы А = 933.59,ARPU группы B = 1255.83 \n"
     ]
    }
   ],
   "source": [
    "arpu = act_plus_checks.groupby('grp')['rev'].describe()['mean'].round(2)\n",
    "print(f'Для необработаных данных ARPU  группы А = {arpu[0]} ,ARPU группы B = {arpu[1]} ')\n",
    "arppu = act_plus_checks_paid.groupby('grp')['rev'].describe()['mean'].round(2)\n",
    "print(f'Для необработаных данных ARPPU группы А = {arppu[0]},ARPU группы B = {arppu[1]} ')"
   ]
  },
  {
   "cell_type": "code",
   "execution_count": 75,
   "metadata": {},
   "outputs": [
    {
     "name": "stdout",
     "output_type": "stream",
     "text": [
      "Для необработаных данных медианный платеж на платящего человека группы А = 585.0, Медианный платеж на платящего человека  группы B = 1140.0 \n"
     ]
    }
   ],
   "source": [
    "median_paying = act_plus_checks_paid.groupby('grp')['rev'].describe()['50%'].round(2)\n",
    "print(f'Для необработаных данных медианный платеж на платящего человека группы А = {median_paying[0]}, Медианный платеж на платящего человека  группы B = {median_paying[1]} ')"
   ]
  },
  {
   "cell_type": "code",
   "execution_count": 76,
   "metadata": {},
   "outputs": [
    {
     "name": "stdout",
     "output_type": "stream",
     "text": [
      "Для обработанных данных ARPU  группы А = 47.44 ,ARPU группы B = 22.77 \n",
      "Для обработанных данных ARPPU группы А = 933.59,ARPU группы B = 815.99 \n"
     ]
    }
   ],
   "source": [
    "#здесь отрезаем \"странные\" платежи\n",
    "act_plus_checks_correct = act_plus_checks.query(\"rev != '1900.0000' and rev != '1900.0001'\")\n",
    "act_plus_checks_paid_correct = act_plus_checks_paid.query(\"rev != '1900.0000' and rev != '1900.0001'\")\n",
    "arpu = act_plus_checks_correct.groupby('grp')['rev'].describe()['mean'].round(2)\n",
    "print(f'Для обработанных данных ARPU  группы А = {arpu[0]} ,ARPU группы B = {arpu[1]} ')\n",
    "arppu = act_plus_checks_paid_correct.groupby('grp')['rev'].describe()['mean'].round(2)\n",
    "print(f'Для обработанных данных ARPPU группы А = {arppu[0]},ARPU группы B = {arppu[1]} ')"
   ]
  },
  {
   "cell_type": "code",
   "execution_count": 77,
   "metadata": {},
   "outputs": [
    {
     "name": "stdout",
     "output_type": "stream",
     "text": [
      "Для обработанных данных медианный платеж на платящего человека группы А = 585.0, Медианный платеж на платящего человека  группы B = 690.0 \n"
     ]
    }
   ],
   "source": [
    "median_paying = act_plus_checks_paid_correct.groupby('grp')['rev'].describe()['50%'].round(2)\n",
    "print(f'Для обработанных данных медианный платеж на платящего человека группы А = {median_paying[0]}, Медианный платеж на платящего человека  группы B = {median_paying[1]} ')"
   ]
  },
  {
   "cell_type": "code",
   "execution_count": 78,
   "metadata": {},
   "outputs": [
    {
     "data": {
      "text/plain": [
       "<matplotlib.axes._subplots.AxesSubplot at 0x7fa8dbaacd68>"
      ]
     },
     "execution_count": 78,
     "metadata": {},
     "output_type": "execute_result"
    },
    {
     "data": {
      "image/png": "[encoded data removed]",
      "text/plain": [
       "<Figure size 432x288 with 1 Axes>"
      ]
     },
     "metadata": {},
     "output_type": "display_data"
    }
   ],
   "source": [
    "#боксплот с оригинальными данными\n",
    "sns.boxplot(x = 'grp', y = 'rev', data = act_plus_checks_paid)"
   ]
  },
  {
   "cell_type": "code",
   "execution_count": 79,
   "metadata": {},
   "outputs": [
    {
     "data": {
      "text/plain": [
       "<matplotlib.axes._subplots.AxesSubplot at 0x7fa8e0577358>"
      ]
     },
     "execution_count": 79,
     "metadata": {},
     "output_type": "execute_result"
    },
    {
     "data": {
      "image/png": "[encoded data removed]",
      "text/plain": [
       "<Figure size 432x288 with 1 Axes>"
      ]
     },
     "metadata": {},
     "output_type": "display_data"
    }
   ],
   "source": [
    "#боксплот с обработанными данными\n",
    "sns.boxplot(x = 'grp', y = 'rev', data = act_plus_checks_paid_correct)"
   ]
  },
  {
   "cell_type": "code",
   "execution_count": 87,
   "metadata": {},
   "outputs": [
    {
     "data": {
      "image/png": "[encoded data removed]",
      "text/plain": [
       "<Figure size 432x288 with 1 Axes>"
      ]
     },
     "metadata": {},
     "output_type": "display_data"
    }
   ],
   "source": [
    "fix, ax = plt.subplots() #смортим распределение платежей \n",
    "ax.hist(act_plus_checks_paid_correct.query('grp == \"A\"')['rev'], label = 'Контрольная группа', alpha = 0.5) #step - thin lines\n",
    "ax.hist(act_plus_checks_paid_correct.query('grp == \"B\"')['rev'], label = 'Тестовая группа', alpha = 0.5)\n",
    "ax.set_title('Распределения платежей в двух группах без \"странных платежей\"')\n",
    "ax.set_ylabel('Кол-во платежей')\n",
    "ax.set_xlabel('Сумма платежа')\n",
    "ax.legend()\n",
    "plt.show()"
   ]
  },
  {
   "cell_type": "markdown",
   "metadata": {},
   "source": [
    "#### ARPU, ARPAU, MEDIAN и BOXPLOT  с оригинальными данными указывают на то, что группа Б платит намного больше\n",
    "#### ARPU, ARPAU и BOXPLOT  с обработаными данными  напротив указывают на то, что группа А платит больше, но медиана в Б все еще выше, хотя и не настолько"
   ]
  },
  {
   "cell_type": "markdown",
   "metadata": {},
   "source": [
    "### Статзначимость\n",
    "* T-Test фейлится из-за выбросов, а они у нас есть (1900 и 1900.0001 в 'B') и результат может ввести нас в заблуждение. Можно прологарифмировать, но тогда не сможем сделать внятных выводов(ttest сравнивает по средним, но после логарифмирования сможем сделать вывод о логарифмированых данных, а не реальных). Просто проведем shapiro на нормальность распределения, чтобы точно отмести ttest. \n",
    "* Хотя непараметрика (манна-уитни) нормально работает с ассимеричными данными, он плохо работает с большим кол-вом повторяющихся значений. Также по непараметрике очень сложно сделать конкретные выводы, тк она сравнивает ранги значений. Тоже не идеальный вариант\n",
    "* Bootstrap позволяет понять где различия в группах (медиана, процентили). Проблема в том, что нужна репрезентативная качественная выборка. Если мы считаем что она таковой и является, то это лучший вариант.\n",
    "\n",
    "## Н0 - rev в наших группах статзначимо не различается"
   ]
  },
  {
   "cell_type": "code",
   "execution_count": 88,
   "metadata": {},
   "outputs": [
    {
     "name": "stdout",
     "output_type": "stream",
     "text": [
      "Тест на нормальность распределения control группы: W = 0.735 , p-value = 0.000 => стат значимо не нормально\n",
      "Тест на нормальность распределения target группы: W = 0.855 , p-value = 0.000 => стат значимо не нормально\n"
     ]
    }
   ],
   "source": [
    "sp = stats.shapiro(act_plus_checks_paid.query('grp == \"A\"')['rev'])\n",
    "concl = '=> не стат значимо, нормальное' if sp[1]>0.05 else '=> стат значимо не нормально' \n",
    "print('Тест на нормальность распределения control группы: W = %.3f' % sp[0], ', p-value = %.3f' % sp[1], concl)\n",
    "\n",
    "sp = stats.shapiro(act_plus_checks_paid.query('grp == \"B\"')['rev'])\n",
    "concl = '=> не стат значимо, нормальное' if sp[1]>0.05 else '=> стат значимо не нормально' \n",
    "print('Тест на нормальность распределения target группы: W = %.3f' % sp[0], ', p-value = %.3f' % sp[1], concl)"
   ]
  },
  {
   "cell_type": "code",
   "execution_count": 89,
   "metadata": {},
   "outputs": [
    {
     "data": {
      "image/png": "[encoded data removed]",
      "text/plain": [
       "<Figure size 1440x720 with 2 Axes>"
      ]
     },
     "metadata": {},
     "output_type": "display_data"
    }
   ],
   "source": [
    "pylab.figure(figsize=(20,10))\n",
    "pylab.subplot(2,2,1)\n",
    "stats.probplot(act_plus_checks_paid.query('grp == \"A\"')['rev'], dist=\"norm\", plot=pylab)\n",
    "pylab.subplot(2,2,2)\n",
    "stats.probplot(act_plus_checks_paid.query('grp == \"B\"')['rev'], dist=\"norm\", plot=pylab)\n",
    "pylab.show()"
   ]
  },
  {
   "cell_type": "markdown",
   "metadata": {},
   "source": [
    "### Тест Шапиро-Уилка и qq-plot говорят о том, распределение метрики в группе не нормально"
   ]
  },
  {
   "cell_type": "markdown",
   "metadata": {},
   "source": [
    "### Создадим функцию и проведем bootstrap наших оригинальных данных и подкорректированых"
   ]
  },
  {
   "cell_type": "code",
   "execution_count": 90,
   "metadata": {},
   "outputs": [],
   "source": [
    "def get_bootstrap( # создаем функцию для бутстрапа\n",
    "    data_column_1, # числовые значения первой выборки\n",
    "    data_column_2, # числовые значения второй выборки\n",
    "    boot_it = 1000, # количество бутстрэп-подвыборок\n",
    "    statistic = np.mean, # интересующая нас статистика\n",
    "    bootstrap_conf_level = 0.95 # уровень значимости\n",
    "):\n",
    "    boot_len = max([len(data_column_1), len(data_column_2)])\n",
    "    boot_data = []\n",
    "    for i in tqdm(range(boot_it)): # извлекаем подвыборки\n",
    "        samples_1 = data_column_1.sample(\n",
    "            boot_len, \n",
    "            replace = True # параметр возвращения\n",
    "        ).values\n",
    "        \n",
    "        samples_2 = data_column_2.sample(\n",
    "            boot_len, # чтобы сохранить дисперсию, берем такой же размер выборки\n",
    "            replace = True\n",
    "        ).values\n",
    "        \n",
    "        boot_data.append(statistic(samples_1-samples_2)) \n",
    "    pd_boot_data = pd.DataFrame(boot_data)\n",
    "        \n",
    "    left_quant = (1 - bootstrap_conf_level)/2\n",
    "    right_quant = 1 - (1 - bootstrap_conf_level) / 2\n",
    "    quants = pd_boot_data.quantile([left_quant, right_quant])\n",
    "        \n",
    "    p_1 = norm.cdf(\n",
    "        x = 0, \n",
    "        loc = np.mean(boot_data), \n",
    "        scale = np.std(boot_data)\n",
    "    )\n",
    "    p_2 = norm.cdf(\n",
    "        x = 0, \n",
    "        loc = -np.mean(boot_data), \n",
    "        scale = np.std(boot_data)\n",
    "    )\n",
    "    p_value = min(p_1, p_2) * 2\n",
    "        \n",
    "    # Визуализация\n",
    "    _, _, bars = plt.hist(pd_boot_data[0], bins = 50)\n",
    "    for bar in bars:\n",
    "        if abs(bar.get_x()) <= quants.iloc[0][0] or abs(bar.get_x()) >= quants.iloc[1][0]:\n",
    "            bar.set_facecolor('red')\n",
    "        else: \n",
    "            bar.set_facecolor('grey')\n",
    "            bar.set_edgecolor('black')\n",
    "    \n",
    "    plt.style.use('ggplot')\n",
    "    plt.vlines(quants,ymin=0,ymax=50,linestyle='--')\n",
    "    plt.xlabel('boot_data')\n",
    "    plt.ylabel('frequency')\n",
    "    plt.title(\"Histogram of boot_data\")\n",
    "    plt.show()\n",
    "       \n",
    "    return {\n",
    "            \"quants\": quants, \n",
    "            \"p_value\": p_value}"
   ]
  },
  {
   "cell_type": "code",
   "execution_count": 91,
   "metadata": {},
   "outputs": [
    {
     "data": {
      "application/vnd.jupyter.widget-view+json": {
       "model_id": "fd2981b9ad2f43a9b1c28e625fd96d52",
       "version_major": 2,
       "version_minor": 0
      },
      "text/plain": [
       "HBox(children=(FloatProgress(value=0.0, max=1000.0), HTML(value='')))"
      ]
     },
     "metadata": {},
     "output_type": "display_data"
    },
    {
     "name": "stdout",
     "output_type": "stream",
     "text": [
      "\n"
     ]
    },
    {
     "data": {
      "image/png": "[encoded data removed]",
      "text/plain": [
       "<Figure size 432x288 with 1 Axes>"
      ]
     },
     "metadata": {},
     "output_type": "display_data"
    },
    {
     "data": {
      "text/plain": [
       "{'quants':                 0\n",
       " 0.025 -451.518141\n",
       " 0.975 -186.256163,\n",
       " 'p_value': 3.624130391845512e-06}"
      ]
     },
     "execution_count": 91,
     "metadata": {},
     "output_type": "execute_result"
    }
   ],
   "source": [
    "# бутсрапируем оригинальные данные\n",
    "get_bootstrap(\n",
    "    act_plus_checks_paid[act_plus_checks_paid.grp == 'A']['rev'] , # числовые значения первой выборки\n",
    "    act_plus_checks_paid[act_plus_checks_paid.grp == 'B']['rev'], # числовые значения второй выборки\n",
    "    boot_it = 1000, # количество бутстрэп-подвыборок\n",
    "    statistic = np.mean, # интересующая нас статистика\n",
    "    bootstrap_conf_level = 0.95 # уровень значимости\n",
    ")\n"
   ]
  },
  {
   "cell_type": "markdown",
   "metadata": {},
   "source": [
    "\n",
    "### Тут через Bootstrap я считал средние оригинальных данных. На гистограме можно наблюдать разницу бутстрапированых средних группы А и Б. Так как в наши 95% не попадает 0 по оси Х, то даже по гистограме можно отклонить Н0. Глядя на результирующий P-value мы можем смело отклонить Н0 и принять альтернативную гипотезу.\n",
    "### Итого принимаем Н1 о том, что наши контрольные группы не равны. И можем сказать что наша новая система оплаты статистически значимо положительно сказалась на показателях rev."
   ]
  },
  {
   "cell_type": "code",
   "execution_count": 92,
   "metadata": {},
   "outputs": [
    {
     "data": {
      "application/vnd.jupyter.widget-view+json": {
       "model_id": "189369c0f7bf459d8e8fb734f11521f0",
       "version_major": 2,
       "version_minor": 0
      },
      "text/plain": [
       "HBox(children=(FloatProgress(value=0.0, max=1000.0), HTML(value='')))"
      ]
     },
     "metadata": {},
     "output_type": "display_data"
    },
    {
     "name": "stdout",
     "output_type": "stream",
     "text": [
      "\n"
     ]
    },
    {
     "data": {
      "image/png": "[encoded data removed]",
      "text/plain": [
       "<Figure size 432x288 with 1 Axes>"
      ]
     },
     "metadata": {},
     "output_type": "display_data"
    },
    {
     "data": {
      "text/plain": [
       "{'quants':                 0\n",
       " 0.025  -58.724328\n",
       " 0.975  293.988844,\n",
       " 'p_value': 0.1818684727838964}"
      ]
     },
     "execution_count": 92,
     "metadata": {},
     "output_type": "execute_result"
    }
   ],
   "source": [
    "# бутсрапируем измененные данные\n",
    "get_bootstrap(\n",
    "    act_plus_checks_paid_correct[act_plus_checks_paid_correct.grp == 'A']['rev'] , # числовые значения первой выборки\n",
    "    act_plus_checks_paid_correct[act_plus_checks_paid_correct.grp == 'B']['rev'], # числовые значения второй выборки\n",
    "    boot_it = 1000, # количество бутстрэп-подвыборок\n",
    "    statistic = np.mean, # интересующая нас статистика\n",
    "    bootstrap_conf_level = 0.95 # уровень значимости\n",
    ")"
   ]
  },
  {
   "cell_type": "markdown",
   "metadata": {},
   "source": [
    "### Тут через Bootstrap я считал средние измененных данных. На гистограме можно обнаружить что в наши 95%  попадает 0 по оси Х. Глядя на результирующий P-value мы должны оставить Н0 о том, что наши контрольные группы  равны. "
   ]
  },
  {
   "cell_type": "markdown",
   "metadata": {},
   "source": [
    "#### На выходе у нас информация, которая противоречит друг другу"
   ]
  },
  {
   "cell_type": "markdown",
   "metadata": {},
   "source": [
    "## Разбираемся с conversion rate:\n",
    "* Создадим кросстаблицу (А/Б)/(Оплатил/не оплатил) для двух видов данных(ориг и измененные)\n",
    "* Так как у нас будет 2 номинативные переменные, то можем применить хи-квадрат.\n"
   ]
  },
  {
   "cell_type": "code",
   "execution_count": 93,
   "metadata": {},
   "outputs": [
    {
     "data": {
      "text/html": [
       "<div>\n",
       "<style scoped>\n",
       "    .dataframe tbody tr th:only-of-type {\n",
       "        vertical-align: middle;\n",
       "    }\n",
       "\n",
       "    .dataframe tbody tr th {\n",
       "        vertical-align: top;\n",
       "    }\n",
       "\n",
       "    .dataframe thead th {\n",
       "        text-align: right;\n",
       "    }\n",
       "</style>\n",
       "<table border=\"1\" class=\"dataframe\">\n",
       "  <thead>\n",
       "    <tr style=\"text-align: right;\">\n",
       "      <th></th>\n",
       "      <th>grp</th>\n",
       "      <th>paid</th>\n",
       "    </tr>\n",
       "  </thead>\n",
       "  <tbody>\n",
       "    <tr>\n",
       "      <th>8323</th>\n",
       "      <td>B</td>\n",
       "      <td>no</td>\n",
       "    </tr>\n",
       "    <tr>\n",
       "      <th>8324</th>\n",
       "      <td>B</td>\n",
       "      <td>no</td>\n",
       "    </tr>\n",
       "    <tr>\n",
       "      <th>8325</th>\n",
       "      <td>B</td>\n",
       "      <td>no</td>\n",
       "    </tr>\n",
       "    <tr>\n",
       "      <th>8326</th>\n",
       "      <td>B</td>\n",
       "      <td>yes</td>\n",
       "    </tr>\n",
       "    <tr>\n",
       "      <th>8327</th>\n",
       "      <td>B</td>\n",
       "      <td>no</td>\n",
       "    </tr>\n",
       "  </tbody>\n",
       "</table>\n",
       "</div>"
      ],
      "text/plain": [
       "     grp paid\n",
       "8323   B   no\n",
       "8324   B   no\n",
       "8325   B   no\n",
       "8326   B  yes\n",
       "8327   B   no"
      ]
     },
     "execution_count": 93,
     "metadata": {},
     "output_type": "execute_result"
    }
   ],
   "source": [
    "def paid_func(act_plus_checks): #функция для создания номинативной переменной платежей\n",
    "    if (act_plus_checks['rev'] == 0):\n",
    "        return 'no'\n",
    "    else:\n",
    "        return 'yes'\n",
    "act_plus_checks['paid'] = act_plus_checks.apply(paid_func, axis = 1)\n",
    "strat_df = act_plus_checks.drop(columns = ['id', 'rev'])\n",
    "strat_df.tail()"
   ]
  },
  {
   "cell_type": "code",
   "execution_count": 94,
   "metadata": {},
   "outputs": [
    {
     "name": "stderr",
     "output_type": "stream",
     "text": [
      "/opt/tljh/user/lib/python3.7/site-packages/ipykernel_launcher.py:6: SettingWithCopyWarning: \n",
      "A value is trying to be set on a copy of a slice from a DataFrame.\n",
      "Try using .loc[row_indexer,col_indexer] = value instead\n",
      "\n",
      "See the caveats in the documentation: https://pandas.pydata.org/pandas-docs/stable/user_guide/indexing.html#returning-a-view-versus-a-copy\n",
      "  \n"
     ]
    },
    {
     "data": {
      "text/html": [
       "<div>\n",
       "<style scoped>\n",
       "    .dataframe tbody tr th:only-of-type {\n",
       "        vertical-align: middle;\n",
       "    }\n",
       "\n",
       "    .dataframe tbody tr th {\n",
       "        vertical-align: top;\n",
       "    }\n",
       "\n",
       "    .dataframe thead th {\n",
       "        text-align: right;\n",
       "    }\n",
       "</style>\n",
       "<table border=\"1\" class=\"dataframe\">\n",
       "  <thead>\n",
       "    <tr style=\"text-align: right;\">\n",
       "      <th></th>\n",
       "      <th>grp</th>\n",
       "      <th>paid</th>\n",
       "    </tr>\n",
       "  </thead>\n",
       "  <tbody>\n",
       "    <tr>\n",
       "      <th>8323</th>\n",
       "      <td>B</td>\n",
       "      <td>no</td>\n",
       "    </tr>\n",
       "    <tr>\n",
       "      <th>8324</th>\n",
       "      <td>B</td>\n",
       "      <td>no</td>\n",
       "    </tr>\n",
       "    <tr>\n",
       "      <th>8325</th>\n",
       "      <td>B</td>\n",
       "      <td>no</td>\n",
       "    </tr>\n",
       "    <tr>\n",
       "      <th>8326</th>\n",
       "      <td>B</td>\n",
       "      <td>yes</td>\n",
       "    </tr>\n",
       "    <tr>\n",
       "      <th>8327</th>\n",
       "      <td>B</td>\n",
       "      <td>no</td>\n",
       "    </tr>\n",
       "  </tbody>\n",
       "</table>\n",
       "</div>"
      ],
      "text/plain": [
       "     grp paid\n",
       "8323   B   no\n",
       "8324   B   no\n",
       "8325   B   no\n",
       "8326   B  yes\n",
       "8327   B   no"
      ]
     },
     "execution_count": 94,
     "metadata": {},
     "output_type": "execute_result"
    }
   ],
   "source": [
    "def paid_func(act_plus_checks_correct): #функция для создания номинативной переменной платежей\n",
    "    if (act_plus_checks_correct['rev'] == 0):\n",
    "        return 'no'\n",
    "    else:\n",
    "        return 'yes'\n",
    "act_plus_checks_correct['paid'] = act_plus_checks_correct.apply(paid_func, axis = 1)\n",
    "strat_df_c = act_plus_checks_correct.drop(columns = ['id', 'rev'])\n",
    "strat_df_c.tail()"
   ]
  },
  {
   "cell_type": "code",
   "execution_count": 95,
   "metadata": {},
   "outputs": [
    {
     "data": {
      "text/html": [
       "<div>\n",
       "<style scoped>\n",
       "    .dataframe tbody tr th:only-of-type {\n",
       "        vertical-align: middle;\n",
       "    }\n",
       "\n",
       "    .dataframe tbody tr th {\n",
       "        vertical-align: top;\n",
       "    }\n",
       "\n",
       "    .dataframe thead th {\n",
       "        text-align: right;\n",
       "    }\n",
       "</style>\n",
       "<table border=\"1\" class=\"dataframe\">\n",
       "  <thead>\n",
       "    <tr style=\"text-align: right;\">\n",
       "      <th>paid</th>\n",
       "      <th>no</th>\n",
       "      <th>yes</th>\n",
       "    </tr>\n",
       "    <tr>\n",
       "      <th>grp</th>\n",
       "      <th></th>\n",
       "      <th></th>\n",
       "    </tr>\n",
       "  </thead>\n",
       "  <tbody>\n",
       "    <tr>\n",
       "      <th>A</th>\n",
       "      <td>1457</td>\n",
       "      <td>78</td>\n",
       "    </tr>\n",
       "    <tr>\n",
       "      <th>B</th>\n",
       "      <td>6480</td>\n",
       "      <td>186</td>\n",
       "    </tr>\n",
       "  </tbody>\n",
       "</table>\n",
       "</div>"
      ],
      "text/plain": [
       "paid    no  yes\n",
       "grp            \n",
       "A     1457   78\n",
       "B     6480  186"
      ]
     },
     "execution_count": 95,
     "metadata": {},
     "output_type": "execute_result"
    }
   ],
   "source": [
    "cross_c = pd.crosstab(strat_df_c.grp, strat_df_c.paid) #кросстаб для измененных данных\n",
    "cross_c"
   ]
  },
  {
   "cell_type": "code",
   "execution_count": 96,
   "metadata": {},
   "outputs": [
    {
     "data": {
      "text/html": [
       "<style  type=\"text/css\" >\n",
       "</style><table id=\"T_edac0a88_5c46_11ed_bdbb_96000040dfb6\" ><thead>    <tr>        <th class=\"index_name level0\" >paid</th>        <th class=\"col_heading level0 col0\" >no</th>        <th class=\"col_heading level0 col1\" >yes</th>    </tr>    <tr>        <th class=\"index_name level0\" >grp</th>        <th class=\"blank\" ></th>        <th class=\"blank\" ></th>    </tr></thead><tbody>\n",
       "                <tr>\n",
       "                        <th id=\"T_edac0a88_5c46_11ed_bdbb_96000040dfb6level0_row0\" class=\"row_heading level0 row0\" >A</th>\n",
       "                        <td id=\"T_edac0a88_5c46_11ed_bdbb_96000040dfb6row0_col0\" class=\"data row0 col0\" >94.92%</td>\n",
       "                        <td id=\"T_edac0a88_5c46_11ed_bdbb_96000040dfb6row0_col1\" class=\"data row0 col1\" >5.08%</td>\n",
       "            </tr>\n",
       "            <tr>\n",
       "                        <th id=\"T_edac0a88_5c46_11ed_bdbb_96000040dfb6level0_row1\" class=\"row_heading level0 row1\" >B</th>\n",
       "                        <td id=\"T_edac0a88_5c46_11ed_bdbb_96000040dfb6row1_col0\" class=\"data row1 col0\" >97.21%</td>\n",
       "                        <td id=\"T_edac0a88_5c46_11ed_bdbb_96000040dfb6row1_col1\" class=\"data row1 col1\" >2.79%</td>\n",
       "            </tr>\n",
       "    </tbody></table>"
      ],
      "text/plain": [
       "<pandas.io.formats.style.Styler at 0x7fa8bb8e6320>"
      ]
     },
     "execution_count": 96,
     "metadata": {},
     "output_type": "execute_result"
    }
   ],
   "source": [
    "percent_cross_c = pd.crosstab(strat_df_c.grp, strat_df_c.paid, normalize = 'index').style.format('{:.2%}') \n",
    "percent_cross_c #конверсия для измененных данных"
   ]
  },
  {
   "cell_type": "code",
   "execution_count": 97,
   "metadata": {},
   "outputs": [
    {
     "data": {
      "text/html": [
       "<div>\n",
       "<style scoped>\n",
       "    .dataframe tbody tr th:only-of-type {\n",
       "        vertical-align: middle;\n",
       "    }\n",
       "\n",
       "    .dataframe tbody tr th {\n",
       "        vertical-align: top;\n",
       "    }\n",
       "\n",
       "    .dataframe thead th {\n",
       "        text-align: right;\n",
       "    }\n",
       "</style>\n",
       "<table border=\"1\" class=\"dataframe\">\n",
       "  <thead>\n",
       "    <tr style=\"text-align: right;\">\n",
       "      <th>paid</th>\n",
       "      <th>no</th>\n",
       "      <th>yes</th>\n",
       "    </tr>\n",
       "    <tr>\n",
       "      <th>grp</th>\n",
       "      <th></th>\n",
       "      <th></th>\n",
       "    </tr>\n",
       "  </thead>\n",
       "  <tbody>\n",
       "    <tr>\n",
       "      <th>A</th>\n",
       "      <td>1457</td>\n",
       "      <td>78</td>\n",
       "    </tr>\n",
       "    <tr>\n",
       "      <th>B</th>\n",
       "      <td>6480</td>\n",
       "      <td>313</td>\n",
       "    </tr>\n",
       "  </tbody>\n",
       "</table>\n",
       "</div>"
      ],
      "text/plain": [
       "paid    no  yes\n",
       "grp            \n",
       "A     1457   78\n",
       "B     6480  313"
      ]
     },
     "execution_count": 97,
     "metadata": {},
     "output_type": "execute_result"
    }
   ],
   "source": [
    "cross = pd.crosstab(strat_df.grp, strat_df.paid) #кросстаб для ориг данных\n",
    "cross"
   ]
  },
  {
   "cell_type": "code",
   "execution_count": 98,
   "metadata": {},
   "outputs": [
    {
     "data": {
      "text/html": [
       "<style  type=\"text/css\" >\n",
       "</style><table id=\"T_edac0a89_5c46_11ed_bdbb_96000040dfb6\" ><thead>    <tr>        <th class=\"index_name level0\" >paid</th>        <th class=\"col_heading level0 col0\" >no</th>        <th class=\"col_heading level0 col1\" >yes</th>    </tr>    <tr>        <th class=\"index_name level0\" >grp</th>        <th class=\"blank\" ></th>        <th class=\"blank\" ></th>    </tr></thead><tbody>\n",
       "                <tr>\n",
       "                        <th id=\"T_edac0a89_5c46_11ed_bdbb_96000040dfb6level0_row0\" class=\"row_heading level0 row0\" >A</th>\n",
       "                        <td id=\"T_edac0a89_5c46_11ed_bdbb_96000040dfb6row0_col0\" class=\"data row0 col0\" >94.92%</td>\n",
       "                        <td id=\"T_edac0a89_5c46_11ed_bdbb_96000040dfb6row0_col1\" class=\"data row0 col1\" >5.08%</td>\n",
       "            </tr>\n",
       "            <tr>\n",
       "                        <th id=\"T_edac0a89_5c46_11ed_bdbb_96000040dfb6level0_row1\" class=\"row_heading level0 row1\" >B</th>\n",
       "                        <td id=\"T_edac0a89_5c46_11ed_bdbb_96000040dfb6row1_col0\" class=\"data row1 col0\" >95.39%</td>\n",
       "                        <td id=\"T_edac0a89_5c46_11ed_bdbb_96000040dfb6row1_col1\" class=\"data row1 col1\" >4.61%</td>\n",
       "            </tr>\n",
       "    </tbody></table>"
      ],
      "text/plain": [
       "<pandas.io.formats.style.Styler at 0x7fa8bb8e6da0>"
      ]
     },
     "execution_count": 98,
     "metadata": {},
     "output_type": "execute_result"
    }
   ],
   "source": [
    "percent_cross = pd.crosstab(strat_df.grp, strat_df.paid, normalize = 'index').style.format('{:.2%}') \n",
    "percent_cross #конверсия для ориг данных"
   ]
  },
  {
   "cell_type": "markdown",
   "metadata": {},
   "source": [
    "### В колонке paid/yes можем наблюдать конверсию. 5.08% для группы А и 4.61% для группы Б для оригинальных данных и 5.08% для группы А и 2.79% для группы Б для измененных"
   ]
  },
  {
   "cell_type": "code",
   "execution_count": 99,
   "metadata": {},
   "outputs": [
    {
     "data": {
      "text/plain": [
       "<matplotlib.legend.Legend at 0x7fa8bb9682e8>"
      ]
     },
     "execution_count": 99,
     "metadata": {},
     "output_type": "execute_result"
    },
    {
     "data": {
      "image/png": "[encoded data removed]",
      "text/plain": [
       "<Figure size 432x288 with 1 Axes>"
      ]
     },
     "metadata": {},
     "output_type": "display_data"
    }
   ],
   "source": [
    "ax = cross.plot(kind='bar',  rot=0)\n",
    "ax.set_ylabel('Кол-во человек')\n",
    "ax.set_xlabel('Группы')\n",
    "ax.set_title('Оплаты относительно группы(ориг данные)')\n",
    "ax.legend(title='Paid', bbox_to_anchor=(1, 1.02), loc='upper left')"
   ]
  },
  {
   "cell_type": "code",
   "execution_count": 100,
   "metadata": {},
   "outputs": [
    {
     "data": {
      "text/plain": [
       "<matplotlib.legend.Legend at 0x7fa8bbb1f748>"
      ]
     },
     "execution_count": 100,
     "metadata": {},
     "output_type": "execute_result"
    },
    {
     "data": {
      "image/png": "[encoded data removed]",
      "text/plain": [
       "<Figure size 432x288 with 1 Axes>"
      ]
     },
     "metadata": {},
     "output_type": "display_data"
    }
   ],
   "source": [
    "ax = cross_c.plot(kind='bar',  rot=0)\n",
    "ax.set_ylabel('Кол-во человек')\n",
    "ax.set_xlabel('Группы')\n",
    "ax.set_title('Оплаты относительно группы (измененные данные)')\n",
    "ax.legend(title='Paid', bbox_to_anchor=(1, 1.02), loc='upper left')"
   ]
  },
  {
   "cell_type": "code",
   "execution_count": 101,
   "metadata": {},
   "outputs": [
    {
     "name": "stdout",
     "output_type": "stream",
     "text": [
      "Для оригинальной таблицы P-value по хи-квадрат = 0.46803677583199144\n"
     ]
    }
   ],
   "source": [
    "stat, p, dof, expected  = chi2_contingency(cross) #критерий хи-квадрат\n",
    "print(f'Для оригинальной таблицы P-value по хи-квадрат = {p}')"
   ]
  },
  {
   "cell_type": "code",
   "execution_count": 102,
   "metadata": {},
   "outputs": [
    {
     "name": "stdout",
     "output_type": "stream",
     "text": [
      "Для измененной таблицы P-value по хи-квадрат = 6.641749986515503e-06\n"
     ]
    }
   ],
   "source": [
    "stat, p, dof, expected  = chi2_contingency(cross_c) #критерий хи-квадрат\n",
    "print(f'Для измененной таблицы P-value по хи-квадрат = {p}')"
   ]
  },
  {
   "cell_type": "markdown",
   "metadata": {},
   "source": [
    "### В оригинальных данных критерий Хи-квадрат дал  P-value, намного превышающий 5% уровень значимости. Это не позволяет нам  отклонять Н0 о том, что конверсия в группах статзначимо различается. B измененных данных наоборот P-value дает статзначимые различия в этих группах.\n",
    "\n",
    "#### Опять противоречивые выводы"
   ]
  },
  {
   "cell_type": "markdown",
   "metadata": {},
   "source": [
    "### Итого я делаю вывод что А/Б тест проведен с рядом ошибок:\n",
    "* Контрольная группа в несколько раз меньше экспериментальной (это не критично, но странно раскатывать новую систему оплаты на ≈70% аудитории сайта)\n",
    "* 150 оплат и следоватльно их ID отсутствуют в df с информацией о пользователях, которые зашли на платформу в дни проведения эксперимента, следовательно из 541 оплаты в checks мы оставляем 391, а из них 127 оплат 'странные'\n",
    "* Самое важное - огромное кол-во платежей на одинаковую сумму в контрольной группе без какого-либо объяснения \n",
    "* Мы можем выдвинуть 2 гипотезы: \n",
    "    * у тестовой группы на сайте появилась промоакция, которой не было у контрольной и это полностью ломает эксперимент\n",
    "    * в новую механику оплаты услуг входит что-то помимо новой механики оплаты услуг\n",
    "* У нас нету информации чтобы подвердить или опровергнуть любую из этих гипотез, поэтому на основании этого А/Б теста не следует делать никаких выводов и стоит провести эксперимент корректно"
   ]
  },
  {
   "cell_type": "markdown",
   "metadata": {},
   "source": [
    "___________\n",
    "# Задание 2"
   ]
  },
  {
   "cell_type": "code",
   "execution_count": 20,
   "metadata": {},
   "outputs": [],
   "source": [
    "#объявляем параметры подключения\n",
    "connection_default = {'host': 'http://clickhouse.beslan.pro:8080',\n",
    "                      'database':'default',\n",
    "                      'user':'student', \n",
    "                      'password':'dpo_python_2020'\n",
    "                     }"
   ]
  },
  {
   "cell_type": "markdown",
   "metadata": {},
   "source": [
    "## Часть 1 - кол-во активных студентов"
   ]
  },
  {
   "cell_type": "code",
   "execution_count": 21,
   "metadata": {},
   "outputs": [
    {
     "data": {
      "text/html": [
       "<div>\n",
       "<style scoped>\n",
       "    .dataframe tbody tr th:only-of-type {\n",
       "        vertical-align: middle;\n",
       "    }\n",
       "\n",
       "    .dataframe tbody tr th {\n",
       "        vertical-align: top;\n",
       "    }\n",
       "\n",
       "    .dataframe thead th {\n",
       "        text-align: right;\n",
       "    }\n",
       "</style>\n",
       "<table border=\"1\" class=\"dataframe\">\n",
       "  <thead>\n",
       "    <tr style=\"text-align: right;\">\n",
       "      <th></th>\n",
       "      <th>number_of_act_stud</th>\n",
       "    </tr>\n",
       "  </thead>\n",
       "  <tbody>\n",
       "    <tr>\n",
       "      <th>0</th>\n",
       "      <td>130</td>\n",
       "    </tr>\n",
       "  </tbody>\n",
       "</table>\n",
       "</div>"
      ],
      "text/plain": [
       "   number_of_act_stud\n",
       "0                 130"
      ]
     },
     "execution_count": 21,
     "metadata": {},
     "output_type": "execute_result"
    }
   ],
   "source": [
    "query = \"\"\"\n",
    "SELECT COUNT (active_students) AS number_of_act_stud\n",
    "FROM(\n",
    "    SELECT DISTINCT st_id AS active_students\n",
    "    FROM peas\n",
    "    WHERE MONTH(`timest`) = '10' AND YEAR(`timest`) = '2021'\n",
    "    GROUP BY active_students\n",
    "    HAVING SUM(correct) > 20)\n",
    "\"\"\"  \n",
    "task_1 = ph.read_clickhouse(query, connection=connection_default)\n",
    "task_1"
   ]
  },
  {
   "cell_type": "code",
   "execution_count": 22,
   "metadata": {},
   "outputs": [
    {
     "data": {
      "text/html": [
       "<div>\n",
       "<style scoped>\n",
       "    .dataframe tbody tr th:only-of-type {\n",
       "        vertical-align: middle;\n",
       "    }\n",
       "\n",
       "    .dataframe tbody tr th {\n",
       "        vertical-align: top;\n",
       "    }\n",
       "\n",
       "    .dataframe thead th {\n",
       "        text-align: right;\n",
       "    }\n",
       "</style>\n",
       "<table border=\"1\" class=\"dataframe\">\n",
       "  <thead>\n",
       "    <tr style=\"text-align: right;\">\n",
       "      <th></th>\n",
       "      <th>number_of_act_stud</th>\n",
       "    </tr>\n",
       "  </thead>\n",
       "  <tbody>\n",
       "    <tr>\n",
       "      <th>0</th>\n",
       "      <td>0</td>\n",
       "    </tr>\n",
       "  </tbody>\n",
       "</table>\n",
       "</div>"
      ],
      "text/plain": [
       "   number_of_act_stud\n",
       "0                   0"
      ]
     },
     "execution_count": 22,
     "metadata": {},
     "output_type": "execute_result"
    }
   ],
   "source": [
    "# в задании требовался текущий месяц, поэтому оставлю запрос и на текущий месяц\n",
    "query = \"\"\"\n",
    "SELECT COUNT (active_students) AS number_of_act_stud\n",
    "FROM(\n",
    "    SELECT DISTINCT st_id AS active_students\n",
    "    FROM peas\n",
    "    WHERE MONTH(`timest`) = MONTH(NOW()) AND YEAR(`timest`) = YEAR(NOW())\n",
    "    GROUP BY active_students\n",
    "    HAVING SUM(correct) > 20)\n",
    "\"\"\"  \n",
    "task_1_2 = ph.read_clickhouse(query, connection=connection_default)\n",
    "task_1_2"
   ]
  },
  {
   "cell_type": "markdown",
   "metadata": {},
   "source": [
    "## Часть 2\n",
    "### Необходимо в одном запросе выгрузить следующую информацию о группах пользователей:\n",
    "\n",
    "* ARPU \n",
    "* ARPAU \n",
    "* CR в покупку \n",
    "* СR активного пользователя в покупку \n",
    "* CR пользователя из активности по математике (subject = ’math’) в покупку курса по математике\n",
    "* ARPU считается относительно всех пользователей, попавших в группы.\n",
    "\n",
    "#### Активным считается пользователь, за все время решивший больше 10 задач правильно в любых дисциплинах.\n",
    "\n",
    "#### Активным по математике считается пользователь, за все время решивший 2 или больше задач правильно по математике."
   ]
  },
  {
   "cell_type": "code",
   "execution_count": 23,
   "metadata": {},
   "outputs": [
    {
     "data": {
      "text/html": [
       "<div>\n",
       "<style scoped>\n",
       "    .dataframe tbody tr th:only-of-type {\n",
       "        vertical-align: middle;\n",
       "    }\n",
       "\n",
       "    .dataframe tbody tr th {\n",
       "        vertical-align: top;\n",
       "    }\n",
       "\n",
       "    .dataframe thead th {\n",
       "        text-align: right;\n",
       "    }\n",
       "</style>\n",
       "<table border=\"1\" class=\"dataframe\">\n",
       "  <thead>\n",
       "    <tr style=\"text-align: right;\">\n",
       "      <th></th>\n",
       "      <th>group</th>\n",
       "      <th>ARPU</th>\n",
       "      <th>ARPAU</th>\n",
       "      <th>CR</th>\n",
       "      <th>act_CR</th>\n",
       "      <th>math_CR</th>\n",
       "    </tr>\n",
       "  </thead>\n",
       "  <tbody>\n",
       "    <tr>\n",
       "      <th>0</th>\n",
       "      <td>control</td>\n",
       "      <td>4540.98</td>\n",
       "      <td>10393.70</td>\n",
       "      <td>4.92</td>\n",
       "      <td>11.02</td>\n",
       "      <td>10.20</td>\n",
       "    </tr>\n",
       "    <tr>\n",
       "      <th>1</th>\n",
       "      <td>pilot</td>\n",
       "      <td>11508.47</td>\n",
       "      <td>29739.58</td>\n",
       "      <td>10.85</td>\n",
       "      <td>26.04</td>\n",
       "      <td>14.29</td>\n",
       "    </tr>\n",
       "  </tbody>\n",
       "</table>\n",
       "</div>"
      ],
      "text/plain": [
       "     group      ARPU     ARPAU     CR  act_CR  math_CR\n",
       "0  control   4540.98  10393.70   4.92   11.02    10.20\n",
       "1    pilot  11508.47  29739.58  10.85   26.04    14.29"
      ]
     },
     "execution_count": 23,
     "metadata": {},
     "output_type": "execute_result"
    }
   ],
   "source": [
    "#пишем запрос, и получаем данные из clickhouse в pandas dataframe\n",
    "query = \"\"\"\n",
    "/* все будем выполнять через Common table expression (CTE) */ \n",
    "/* в числитель CR берем уникальные транзакции, но считаем count(distinct st_id),\n",
    "так как мы считаем st_id из таблицы с final_project_check и uniqExact(st_id) = уникальному \n",
    "платежу\n",
    "В знаменатель CR берем общее кол-во студентов в зависимости от критерия СR */ \n",
    "----------------\n",
    "/* считаем кол-во всех студентов для ARPU и CR */ \n",
    "WITH stu AS (    \n",
    "    SELECT  COUNT(DISTINCT st_id) AS total_stud,\n",
    "            test_grp\n",
    "    FROM studs\n",
    "    GROUP BY test_grp\n",
    "),\n",
    "/* считаем кол-во всех платежей от активных пользователей по математике для math_cr */ \n",
    "math_act_paym AS (    \n",
    "    SELECT COUNT(DISTINCT st_id) AS total_payments_math_stud,\n",
    "           test_grp\n",
    "    FROM default.final_project_check AS f\n",
    "    LEFT JOIN studs AS s\n",
    "    ON s.st_id = f.st_id\n",
    "    WHERE st_id IN (\n",
    "            SELECT \n",
    "                DISTINCT p.st_id\n",
    "            FROM peas AS p\n",
    "            LEFT JOIN studs AS s\n",
    "            ON p.st_id = s.st_id\n",
    "            GROUP BY st_id\n",
    "            HAVING SUM(correct) >= 2 AND subject = 'Math') AS a\n",
    "    GROUP BY test_grp\n",
    "),\n",
    "/* считаем все кол-во платежей для CR */ \n",
    "money AS (    \n",
    "    SELECT COUNT (DISTINCT st_id) AS total_payments,\n",
    "            s.test_grp\n",
    "    FROM default.final_project_check AS f\n",
    "    LEFT JOIN studs AS s\n",
    "    ON f.st_id = s.st_id\n",
    "    GROUP BY test_grp\n",
    "),\n",
    "/* счиатем сумму всех денег для ARPU */ \n",
    "money_sum AS (\n",
    "SELECT SUM(f.money) AS total_money_sum,\n",
    "            s.test_grp\n",
    "    FROM default.final_project_check AS f\n",
    "    LEFT JOIN studs AS s\n",
    "    ON f.st_id = s.st_id\n",
    "    GROUP BY test_grp\n",
    "),\n",
    "/* считаем все кол-во платежей от активных студентов для act_cr */ \n",
    "act_paym AS (    \n",
    "    SELECT COUNT (DISTINCT st_id) AS total_payments_act_stud,\n",
    "           test_grp\n",
    "    FROM default.final_project_check AS f\n",
    "    LEFT JOIN studs AS s\n",
    "    ON s.st_id = f.st_id\n",
    "    WHERE st_id IN (\n",
    "            SELECT \n",
    "                DISTINCT p.st_id\n",
    "            FROM peas AS p\n",
    "            LEFT JOIN studs AS s\n",
    "            ON p.st_id = s.st_id\n",
    "            GROUP BY st_id\n",
    "            HAVING SUM(correct) > 10) AS a\n",
    "    GROUP BY test_grp\n",
    "),\n",
    "/* считаем все кол-во акт студентов для act_cr */ \n",
    "act_stud_tot AS (\n",
    "    SELECT COUNT(DISTINCT st_id) AS total_act_st,\n",
    "    test_grp\n",
    "    FROM (\n",
    "            SELECT \n",
    "                DISTINCT p.st_id\n",
    "                FROM peas AS p\n",
    "                LEFT JOIN studs AS s\n",
    "                ON p.st_id = s.st_id\n",
    "                GROUP BY st_id\n",
    "                HAVING SUM(correct) > 10)AS a\n",
    "    LEFT JOIN studs AS s\n",
    "    ON a.st_id = s.st_id\n",
    "    GROUP BY test_grp\n",
    "),\n",
    "/* считаем все кол-во активных студентов по математике для math_cr */ \n",
    "act_math_tot AS (\n",
    "    SELECT COUNT(DISTINCT st_id) AS total_math_stud,\n",
    "    test_grp\n",
    "    FROM (\n",
    "            SELECT \n",
    "                DISTINCT p.st_id\n",
    "                FROM peas AS p\n",
    "                LEFT JOIN studs AS s\n",
    "                ON p.st_id = s.st_id\n",
    "                GROUP BY st_id\n",
    "                HAVING SUM(correct) >= 2 AND subject = 'Math') AS a\n",
    "    LEFT JOIN studs AS s\n",
    "    ON a.st_id = s.st_id\n",
    "    GROUP BY test_grp\n",
    "),\n",
    "/* считаем кол-во денег от активных студентов */ \n",
    "arpau AS\n",
    "    (SELECT SUM(money) AS total_act_st_money_sum,\n",
    "               test_grp\n",
    "        FROM default.final_project_check AS f\n",
    "        LEFT JOIN studs AS s\n",
    "        ON s.st_id = f.st_id\n",
    "        WHERE st_id IN (\n",
    "                SELECT \n",
    "                    DISTINCT p.st_id\n",
    "                FROM peas AS p\n",
    "                LEFT JOIN studs AS s\n",
    "                ON p.st_id = s.st_id\n",
    "                GROUP BY st_id\n",
    "                HAVING SUM(correct) > 10) AS a\n",
    "        GROUP BY test_grp)\n",
    "----------------\n",
    "SELECT \n",
    "    stu.test_grp AS group,\n",
    "    ROUND(total_money_sum / total_stud,2)AS ARPU,\n",
    "    ROUND(total_act_st_money_sum / total_act_st, 2) AS ARPAU,\n",
    "    ROUND(total_payments / total_stud * 100, 2) AS CR,\n",
    "    ROUND(total_payments_act_stud / total_act_st * 100, 2) AS act_CR,\n",
    "    ROUND(total_payments_math_stud / total_math_stud * 100, 2) AS math_CR\n",
    "FROM act_paym\n",
    "LEFT JOIN money\n",
    "ON act_paym.test_grp = money.test_grp\n",
    "LEFT JOIN math_act_paym\n",
    "ON act_paym.test_grp = math_act_paym.test_grp\n",
    "LEFT JOIN stu \n",
    "ON act_paym.test_grp = stu.test_grp\n",
    "LEFT JOIN money_sum \n",
    "ON act_paym.test_grp = money_sum.test_grp\n",
    "LEFT JOIN act_stud_tot\n",
    "ON act_paym.test_grp = act_stud_tot.test_grp\n",
    "LEFT JOIN act_math_tot\n",
    "ON act_paym.test_grp = act_math_tot.test_grp\n",
    "LEFT JOIN arpau \n",
    "ON act_paym.test_grp = arpau.test_grp\n",
    "\"\"\"\n",
    "df = ph.read_clickhouse(query, connection=connection_default)\n",
    "df"
   ]
  },
  {
   "cell_type": "markdown",
   "metadata": {},
   "source": [
    "# Задание 3\n",
    "* Реализуйте функцию, которая будет автоматически подгружать информацию из дополнительного файла groups_add.csv (заголовки могут отличаться) и на основании дополнительных параметров пересчитывать метрики.\n",
    "* Реализуйте функцию, которая будет строить графики по получаемым метрикам."
   ]
  },
  {
   "cell_type": "markdown",
   "metadata": {},
   "source": [
    "## Первая функция выводит на печать:\n",
    "* Конверсия\n",
    "* ARPU\n",
    "* ARPPU\n",
    "* Медианный платеж\n",
    "* Актуальную дату получения информации\n"
   ]
  },
  {
   "cell_type": "code",
   "execution_count": 9,
   "metadata": {},
   "outputs": [],
   "source": [
    "from datetime import date\n",
    "def update_df(x): \n",
    "    \"\"\"Функция для обновления данных в датафрейме, в агрумент функции - местоположение датафрейма для присоединения\n",
    "    На выходе получаем ARPU, ARPAU, медиану платежей и актуальную дату\"\"\"\n",
    "    groups_add = pd.read_csv(x, sep = ',') # считываем дату\n",
    "    active_studs = pd.read_csv('Проект_2_active_studs.csv', sep = ';' ,header = 0, names=['id'])\n",
    "    groups = pd.read_csv('Проект_2_groups.csv', sep = ';' )\n",
    "    checks = pd.read_csv('Проект_2_checks.csv', sep = ';' ,header = 0, names=['id', 'rev'])\n",
    "    up_full_groups = pd.concat([groups, groups_add], axis = 0) #соедин 2 датафрейма\n",
    "    up_active_ab = active_studs.merge(up_full_groups, on = 'id') # нас интересуют только те, кто попал в тест\n",
    "    up_act_plus_checks = up_active_ab.merge(checks, on = 'id', how = 'left') # прикрепляем платежи\n",
    "    up_act_plus_checks = up_act_plus_checks.fillna(0) # убираем NaN из даты\n",
    "    up_act_plus_checks_paid = up_act_plus_checks.query('rev > 0')\n",
    "    up_conv_paid = up_act_plus_checks_paid.groupby('grp')['rev'].count().reset_index()\n",
    "    up_conv_all = up_act_plus_checks.groupby('grp')['rev'].count().reset_index()\n",
    "    up_conv_all['conversion'] = round(up_conv_paid['rev'] / up_conv_all['rev'] * 100, 2) # count converison\n",
    "    up_conv_print = print('Конверсия группы А = ', up_conv_all['conversion'][0],'%', '\\n','Конверсия группы B = ', up_conv_all['conversion'][1],'%') #print\n",
    "    up_arpu = up_act_plus_checks.groupby('grp')['rev'].describe()['mean'].round(2) # обсчитываем ARPU\n",
    "    up_arpu_print = print(f'ARPU группы А = {up_arpu[0]},ARPU группы B = {up_arpu[1]} ')\n",
    "    up_arppu = up_act_plus_checks_paid.groupby('grp')['rev'].describe()['mean'].round(2)# обсчитываем ARPPU\n",
    "    up_arppu_print = print(f'ARPPU группы А = {up_arppu[0]},ARPPU группы B = {up_arppu[1]} ')\n",
    "    up_median_paying = up_act_plus_checks_paid.groupby('grp')['rev'].describe()['50%'].round(2) # смотрим медиану\n",
    "    up_median_paying_print = print(f'Медианный платеж на платящего человека группы А = {up_median_paying[0]},Медианный платеж на платящего человека  группы B = {up_median_paying[1]} ')\n",
    "    time = date.today()\n",
    "    print(f'Актуальная дата {time}'),\n",
    "    print(up_conv_print),\n",
    "    print(up_arpu_print),\n",
    "    print(up_arppu_print),\n",
    "    print(up_median_paying_print)\n",
    "    return up_act_plus_checks, up_active_ab, up_act_plus_checks_paid  \n",
    "# возвращаем датафреймы с новыми данными пользователя для последующей рабоыт с ними"
   ]
  },
  {
   "cell_type": "code",
   "execution_count": 10,
   "metadata": {},
   "outputs": [
    {
     "name": "stdout",
     "output_type": "stream",
     "text": [
      "Конверсия группы А =  5.07 % \n",
      " Конверсия группы B =  4.62 %\n",
      "ARPU группы А = 47.35,ARPU группы B = 58.06 \n",
      "ARPPU группы А = 933.59,ARPPU группы B = 1257.88 \n",
      "Медианный платеж на платящего человека группы А = 585.0,Медианный платеж на платящего человека  группы B = 1140.0 \n",
      "Актуальная дата 2022-11-07\n",
      "None\n",
      "None\n",
      "None\n",
      "None\n"
     ]
    }
   ],
   "source": [
    "up_act_plus_checks, up_active_ab, up_act_plus_checks_paid = update_df('Проект_2_group_add.csv') \n",
    "# смортим интересующие нас показатели"
   ]
  },
  {
   "cell_type": "code",
   "execution_count": 11,
   "metadata": {},
   "outputs": [
    {
     "name": "stdout",
     "output_type": "stream",
     "text": [
      "Функция для обновления данных в датафрейме, в агрумент функции - местоположение датафрейма для присоединения\n",
      "    На выходе получаем ARPU, ARPAU, медиану платежей и актуальную дату\n"
     ]
    }
   ],
   "source": [
    "print(update_df.__doc__)"
   ]
  },
  {
   "cell_type": "code",
   "execution_count": 32,
   "metadata": {},
   "outputs": [],
   "source": [
    "def update_df_plot(up_act_plus_checks, up_active_ab, up_act_plus_checks_paid): \n",
    "    \"\"\"Aргументы функции - датасеты,которые мы получили из предыдущей функции. \n",
    "    На выходе получаем обновленные графики по нашим данным \"\"\"\n",
    "    \n",
    "    time = date.today()\n",
    "    \n",
    "    plt.figure(figsize = (8,8))\n",
    "    fix, ax = plt.subplots()\n",
    "    ax.hist(up_active_ab['grp'], bins = 3) #step - thin lines\n",
    "    ax.set_ylabel('Кол-во человек в группе')\n",
    "    ax.set_xlabel('Группы')\n",
    "    ax.set_title(f'Распределение человек по группам на {time}')\n",
    "    ab_distribution = plt.show()\n",
    "    \n",
    "    fix, ax = plt.subplots()\n",
    "    ax.hist(up_act_plus_checks['rev'], bins = [0,100, 500, 1000, 3000, 4000]) #step - thin lines\n",
    "    ax.set_ylabel('Кол-во платежей')\n",
    "    ax.set_xlabel('Размер платежа')\n",
    "    ax.set_title(f'Общая гистограмма платежей на {time}')\n",
    "    payments_hist = plt.show()    \n",
    "    \n",
    "    fix, ax = plt.subplots() #смортим распределение платежей \n",
    "    ax.hist(up_act_plus_checks_paid.query('grp == \"A\"')['rev'], label = 'Контрольная группа', alpha = 0.5) #step - thin lines\n",
    "    ax.hist(up_act_plus_checks_paid.query('grp == \"B\"')['rev'], label = 'Тестовая группа', alpha = 0.5)\n",
    "    ax.set_title(f'Распределения платежей в двух группах на {time}')\n",
    "    ax.set_ylabel('Кол-во платежей')\n",
    "    ax.set_xlabel('Размер платежа')\n",
    "    ax.legend()\n",
    "    payment_distribution = plt.show()\n",
    "    \n",
    "    boxplot_distribution = sns.boxplot(x = 'grp', y = 'rev', data = up_act_plus_checks_paid)\n",
    "    \n",
    "\n",
    "    return ab_distribution,payments_hist,payment_distribution, boxplot_distribution"
   ]
  },
  {
   "cell_type": "code",
   "execution_count": 33,
   "metadata": {},
   "outputs": [
    {
     "data": {
      "text/plain": [
       "<Figure size 576x576 with 0 Axes>"
      ]
     },
     "metadata": {},
     "output_type": "display_data"
    },
    {
     "data": {
      "image/png": "[encoded data removed]",
      "text/plain": [
       "<Figure size 432x288 with 1 Axes>"
      ]
     },
     "metadata": {},
     "output_type": "display_data"
    },
    {
     "data": {
      "image/png": "[encoded data removed]",
      "text/plain": [
       "<Figure size 432x288 with 1 Axes>"
      ]
     },
     "metadata": {},
     "output_type": "display_data"
    },
    {
     "data": {
      "image/png": "[encoded data removed]",
      "text/plain": [
       "<Figure size 432x288 with 1 Axes>"
      ]
     },
     "metadata": {},
     "output_type": "display_data"
    },
    {
     "data": {
      "text/plain": [
       "(None, None, None, <matplotlib.axes._subplots.AxesSubplot at 0x7ffae4db2860>)"
      ]
     },
     "execution_count": 33,
     "metadata": {},
     "output_type": "execute_result"
    },
    {
     "data": {
      "image/png": "[encoded data removed]",
      "text/plain": [
       "<Figure size 432x288 with 1 Axes>"
      ]
     },
     "metadata": {},
     "output_type": "display_data"
    }
   ],
   "source": [
    "update_df_plot(up_act_plus_checks, up_active_ab, up_act_plus_checks_paid)\n",
    "# графики на актуальную дату использования функции"
   ]
  },
  {
   "cell_type": "code",
   "execution_count": 34,
   "metadata": {},
   "outputs": [
    {
     "name": "stdout",
     "output_type": "stream",
     "text": [
      "Aргументы функции - датасеты,которые мы получили из предыдущей функции. \n",
      "    На выходе получаем обновленные графики по нашим данным \n"
     ]
    }
   ],
   "source": [
    "print(update_df_plot.__doc__)"
   ]
  },
  {
   "cell_type": "code",
   "execution_count": null,
   "metadata": {},
   "outputs": [],
   "source": []
  },
  {
   "cell_type": "code",
   "execution_count": null,
   "metadata": {},
   "outputs": [],
   "source": []
  },
  {
   "cell_type": "code",
   "execution_count": null,
   "metadata": {},
   "outputs": [],
   "source": []
  }
 ],
 "metadata": {
  "kernelspec": {
   "display_name": "Python 3",
   "language": "python",
   "name": "python3"
  },
  "language_info": {
   "codemirror_mode": {
    "name": "ipython",
    "version": 3
   },
   "file_extension": ".py",
   "mimetype": "text/x-python",
   "name": "python",
   "nbconvert_exporter": "python",
   "pygments_lexer": "ipython3",
   "version": "3.7.3"
  }
 },
 "nbformat": 4,
 "nbformat_minor": 4
}
